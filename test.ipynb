{
 "cells": [
  {
   "cell_type": "code",
   "execution_count": 81,
   "metadata": {
    "vscode": {
     "languageId": "r"
    }
   },
   "outputs": [],
   "source": [
    "library(Rcpp)\n",
    "update.packages(\"Rcpp\")"
   ]
  },
  {
   "cell_type": "code",
   "execution_count": 80,
   "metadata": {
    "vscode": {
     "languageId": "r"
    }
   },
   "outputs": [
    {
     "data": {
      "text/html": [
       "'C:/Users/bbessell/Miniconda3/envs/r_leiden/lib/R/include'"
      ],
      "text/latex": [
       "'C:/Users/bbessell/Miniconda3/envs/r\\_leiden/lib/R/include'"
      ],
      "text/markdown": [
       "'C:/Users/bbessell/Miniconda3/envs/r_leiden/lib/R/include'"
      ],
      "text/plain": [
       "[1] \"C:/Users/bbessell/Miniconda3/envs/r_leiden/lib/R/include\""
      ]
     },
     "metadata": {},
     "output_type": "display_data"
    }
   ],
   "source": [
    "R.home(\"include\")"
   ]
  },
  {
   "cell_type": "code",
   "execution_count": 47,
   "metadata": {
    "vscode": {
     "languageId": "r"
    }
   },
   "outputs": [
    {
     "data": {
      "text/html": [
       "4"
      ],
      "text/latex": [
       "4"
      ],
      "text/markdown": [
       "4"
      ],
      "text/plain": [
       "[1] 4"
      ]
     },
     "metadata": {},
     "output_type": "display_data"
    }
   ],
   "source": [
    "sourceCpp(\"rcpp/add_test.cpp\")\n",
    "addTwoIntegers(1,3)"
   ]
  },
  {
   "cell_type": "code",
   "execution_count": 48,
   "metadata": {
    "vscode": {
     "languageId": "r"
    }
   },
   "outputs": [
    {
     "name": "stdout",
     "output_type": "stream",
     "text": [
      "\n",
      "Generated extern \"C\" functions \n",
      "--------------------------------------------------------\n",
      "\n",
      "\n",
      "#include <Rcpp.h>\n",
      "// createGraph\n",
      "Rcpp::List createGraph(const Rcpp::NumericMatrix& edgeWeights);\n",
      "RcppExport SEXP sourceCpp_4_createGraph(SEXP edgeWeightsSEXP) {\n",
      "BEGIN_RCPP\n",
      "    Rcpp::RObject rcpp_result_gen;\n",
      "    Rcpp::RNGScope rcpp_rngScope_gen;\n",
      "    Rcpp::traits::input_parameter< const Rcpp::NumericMatrix& >::type edgeWeights(edgeWeightsSEXP);\n",
      "    rcpp_result_gen = Rcpp::wrap(createGraph(edgeWeights));\n",
      "    return rcpp_result_gen;\n",
      "END_RCPP\n",
      "}\n",
      "\n",
      "Generated R functions \n",
      "-------------------------------------------------------\n",
      "\n",
      "`.sourceCpp_4_DLLInfo` <- dyn.load('C:/Users/bbessell/AppData/Local/Temp/RtmpsvZUNJ/sourceCpp-x86_64-w64-mingw32-1.0.1/sourcecpp_2ad45ac6723a/sourceCpp_24.dll')\n",
      "\n",
      "createGraph <- Rcpp:::sourceCppFunction(function(edgeWeights) {}, FALSE, `.sourceCpp_4_DLLInfo`, 'sourceCpp_4_createGraph')\n",
      "\n",
      "rm(`.sourceCpp_4_DLLInfo`)\n",
      "\n",
      "Building shared library\n",
      "--------------------------------------------------------\n",
      "\n",
      "DIR: C:/Users/bbessell/AppData/Local/Temp/RtmpsvZUNJ/sourceCpp-x86_64-w64-mingw32-1.0.1/sourcecpp_2ad45ac6723a\n",
      "\n",
      "C:/Users/bbessell/Miniconda3/envs/r_leiden/lib/R/bin/x64/R CMD SHLIB -o \"sourceCpp_24.dll\" --preclean \"\" \"GraphUtils.cpp\"  \n"
     ]
    },
    {
     "ename": "ERROR",
     "evalue": "Error in sourceCpp(\"rcpp/GraphUtils.cpp\", verbose = TRUE, rebuild = TRUE): Error 1 occurred building shared library.\n",
     "output_type": "error",
     "traceback": [
      "Error in sourceCpp(\"rcpp/GraphUtils.cpp\", verbose = TRUE, rebuild = TRUE): Error 1 occurred building shared library.\nTraceback:\n",
      "1. sourceCpp(\"rcpp/GraphUtils.cpp\", verbose = TRUE, rebuild = TRUE)",
      "2. stop(\"Error \", result, \" occurred building shared library.\")"
     ]
    }
   ],
   "source": [
    "sourceCpp(\"rcpp/GraphUtils.cpp\", verbose = TRUE, rebuild = TRUE)"
   ]
  },
  {
   "cell_type": "code",
   "execution_count": 101,
   "metadata": {
    "vscode": {
     "languageId": "r"
    }
   },
   "outputs": [
    {
     "ename": "ERROR",
     "evalue": "Error in compilerCheck(): could not find function \"compilerCheck\"\n",
     "output_type": "error",
     "traceback": [
      "Error in compilerCheck(): could not find function \"compilerCheck\"\nTraceback:\n"
     ]
    }
   ],
   "source": [
    "compilerCheck()\n"
   ]
  },
  {
   "cell_type": "code",
   "execution_count": 99,
   "metadata": {
    "vscode": {
     "languageId": "r"
    }
   },
   "outputs": [
    {
     "name": "stdout",
     "output_type": "stream",
     "text": [
      "\n",
      "Generated extern \"C\" functions \n",
      "--------------------------------------------------------\n",
      "\n",
      "\n",
      "#include <Rcpp.h>\n",
      "// createGraphR\n",
      "List createGraphR(List nodes, List edges, NumericVector weights);\n",
      "RcppExport SEXP sourceCpp_34_createGraphR(SEXP nodesSEXP, SEXP edgesSEXP, SEXP weightsSEXP) {\n",
      "BEGIN_RCPP\n",
      "    Rcpp::RObject rcpp_result_gen;\n",
      "    Rcpp::RNGScope rcpp_rngScope_gen;\n",
      "    Rcpp::traits::input_parameter< List >::type nodes(nodesSEXP);\n",
      "    Rcpp::traits::input_parameter< List >::type edges(edgesSEXP);\n",
      "    Rcpp::traits::input_parameter< NumericVector >::type weights(weightsSEXP);\n",
      "    rcpp_result_gen = Rcpp::wrap(createGraphR(nodes, edges, weights));\n",
      "    return rcpp_result_gen;\n",
      "END_RCPP\n",
      "}\n",
      "\n",
      "Generated R functions \n",
      "-------------------------------------------------------\n",
      "\n",
      "`.sourceCpp_34_DLLInfo` <- dyn.load('C:/Users/bbessell/AppData/Local/Temp/RtmpsvZUNJ/sourceCpp-x86_64-w64-mingw32-1.0.1/sourcecpp_2ad453d55ade/sourceCpp_65.dll')\n",
      "\n",
      "createGraphR <- Rcpp:::sourceCppFunction(function(nodes, edges, weights) {}, FALSE, `.sourceCpp_34_DLLInfo`, 'sourceCpp_34_createGraphR')\n",
      "\n",
      "rm(`.sourceCpp_34_DLLInfo`)\n",
      "\n",
      "Building shared library\n",
      "--------------------------------------------------------\n",
      "\n",
      "DIR: C:/Users/bbessell/AppData/Local/Temp/RtmpsvZUNJ/sourceCpp-x86_64-w64-mingw32-1.0.1/sourcecpp_2ad453d55ade\n",
      "\n",
      "C:/Users/bbessell/Miniconda3/envs/r_leiden/lib/R/bin/x64/R CMD SHLIB -o \"sourceCpp_65.dll\" --preclean \"\" \"Leiden.cpp\"  \n"
     ]
    }
   ],
   "source": [
    "library(Rcpp)\n",
    "\n",
    "sourceCpp(\"rcpp/Leiden.cpp\", verbose = TRUE, rebuild = TRUE)\n"
   ]
  },
  {
   "cell_type": "code",
   "execution_count": 55,
   "metadata": {
    "vscode": {
     "languageId": "r"
    }
   },
   "outputs": [
    {
     "name": "stdout",
     "output_type": "stream",
     "text": [
      "$nodes\n",
      "$nodes[[1]]\n",
      "[1] \"A\"\n",
      "\n",
      "$nodes[[2]]\n",
      "[1] \"B\"\n",
      "\n",
      "$nodes[[3]]\n",
      "[1] \"C\"\n",
      "\n",
      "$nodes[[4]]\n",
      "[1] \"D\"\n",
      "\n",
      "\n",
      "$edges\n",
      "$edges[[1]]\n",
      "[1] 1 2\n",
      "\n",
      "$edges[[2]]\n",
      "[1] 2 3\n",
      "\n",
      "$edges[[3]]\n",
      "[1] 3 4\n",
      "\n",
      "\n",
      "$weights\n",
      "[1] 1 2 3\n",
      "\n"
     ]
    }
   ],
   "source": [
    "nodes <- list(\"A\", \"B\", \"C\", \"D\")\n",
    "edges <- list(c(1, 2), c(2, 3), c(3, 4))\n",
    "weights <- c(1.0, 2.0, 3.0)\n",
    "graph <- createGraphR(nodes, edges, weights)\n",
    "print(graph)"
   ]
  },
  {
   "cell_type": "code",
   "execution_count": null,
   "metadata": {
    "vscode": {
     "languageId": "r"
    }
   },
   "outputs": [],
   "source": []
  }
 ],
 "metadata": {
  "kernelspec": {
   "display_name": "R",
   "language": "R",
   "name": "ir"
  },
  "language_info": {
   "codemirror_mode": "r",
   "file_extension": ".r",
   "mimetype": "text/x-r-source",
   "name": "R",
   "pygments_lexer": "r",
   "version": "3.6.1"
  }
 },
 "nbformat": 4,
 "nbformat_minor": 2
}
