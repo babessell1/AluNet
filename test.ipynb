{
 "cells": [
  {
   "cell_type": "code",
   "execution_count": 31,
   "metadata": {
    "vscode": {
     "languageId": "r"
    }
   },
   "outputs": [],
   "source": [
    "library(Rcpp)\n",
    "update.packages(\"Rcpp\")"
   ]
  },
  {
   "cell_type": "code",
   "execution_count": 17,
   "metadata": {
    "vscode": {
     "languageId": "r"
    }
   },
   "outputs": [
    {
     "data": {
      "text/html": [
       "'C:/Users/bbessell/Miniconda3/envs/r_leiden/lib/R/include'"
      ],
      "text/latex": [
       "'C:/Users/bbessell/Miniconda3/envs/r\\_leiden/lib/R/include'"
      ],
      "text/markdown": [
       "'C:/Users/bbessell/Miniconda3/envs/r_leiden/lib/R/include'"
      ],
      "text/plain": [
       "[1] \"C:/Users/bbessell/Miniconda3/envs/r_leiden/lib/R/include\""
      ]
     },
     "metadata": {},
     "output_type": "display_data"
    }
   ],
   "source": [
    "R.home(\"include\")"
   ]
  },
  {
   "cell_type": "code",
   "execution_count": 16,
   "metadata": {
    "vscode": {
     "languageId": "r"
    }
   },
   "outputs": [
    {
     "ename": "ERROR",
     "evalue": "Error in get(name, envir = asNamespace(pkg), inherits = FALSE): object 'RcppCxxDir' not found\n",
     "output_type": "error",
     "traceback": [
      "Error in get(name, envir = asNamespace(pkg), inherits = FALSE): object 'RcppCxxDir' not found\nTraceback:\n",
      "1. Rcpp:::RcppCxxDir",
      "2. get(name, envir = asNamespace(pkg), inherits = FALSE)"
     ]
    }
   ],
   "source": [
    "Rcpp:::RcppCxxDir()"
   ]
  },
  {
   "cell_type": "code",
   "execution_count": 15,
   "metadata": {
    "vscode": {
     "languageId": "r"
    }
   },
   "outputs": [
    {
     "data": {
      "text/html": [
       "''"
      ],
      "text/latex": [
       "''"
      ],
      "text/markdown": [
       "''"
      ],
      "text/plain": [
       "[1] \"\""
      ]
     },
     "metadata": {},
     "output_type": "display_data"
    }
   ],
   "source": [
    "Sys.getenv(\"PKG_CXXFLAGS\")"
   ]
  },
  {
   "cell_type": "code",
   "execution_count": 32,
   "metadata": {
    "vscode": {
     "languageId": "r"
    }
   },
   "outputs": [
    {
     "name": "stdout",
     "output_type": "stream",
     "text": [
      "\n",
      "Generated extern \"C\" functions \n",
      "--------------------------------------------------------\n",
      "\n",
      "\n",
      "#include <Rcpp.h>\n",
      "// countEdges\n",
      "int countEdges(const Graph& C, const Graph& D);\n",
      "RcppExport SEXP sourceCpp_4_countEdges(SEXP CSEXP, SEXP DSEXP) {\n",
      "BEGIN_RCPP\n",
      "    Rcpp::RObject rcpp_result_gen;\n",
      "    Rcpp::RNGScope rcpp_rngScope_gen;\n",
      "    Rcpp::traits::input_parameter< const Graph& >::type C(CSEXP);\n",
      "    Rcpp::traits::input_parameter< const Graph& >::type D(DSEXP);\n",
      "    rcpp_result_gen = Rcpp::wrap(countEdges(C, D));\n",
      "    return rcpp_result_gen;\n",
      "END_RCPP\n",
      "}\n",
      "// createGraph\n",
      "Graph createGraph(const Rcpp::NumericMatrix& edgeWeights);\n",
      "RcppExport SEXP sourceCpp_4_createGraph(SEXP edgeWeightsSEXP) {\n",
      "BEGIN_RCPP\n",
      "    Rcpp::RObject rcpp_result_gen;\n",
      "    Rcpp::RNGScope rcpp_rngScope_gen;\n",
      "    Rcpp::traits::input_parameter< const Rcpp::NumericMatrix& >::type edgeWeights(edgeWeightsSEXP);\n",
      "    rcpp_result_gen = Rcpp::wrap(createGraph(edgeWeights));\n",
      "    return rcpp_result_gen;\n",
      "END_RCPP\n",
      "}\n",
      "\n",
      "Generated R functions \n",
      "-------------------------------------------------------\n",
      "\n",
      "`.sourceCpp_4_DLLInfo` <- dyn.load('C:/Users/bbessell/AppData/Local/Temp/RtmpsvZUNJ/sourceCpp-x86_64-w64-mingw32-1.0.1/sourcecpp_2ad45ac6723a/sourceCpp_14.dll')\n",
      "\n",
      "countEdges <- Rcpp:::sourceCppFunction(function(C, D) {}, FALSE, `.sourceCpp_4_DLLInfo`, 'sourceCpp_4_countEdges')\n",
      "createGraph <- Rcpp:::sourceCppFunction(function(edgeWeights) {}, FALSE, `.sourceCpp_4_DLLInfo`, 'sourceCpp_4_createGraph')\n",
      "\n",
      "rm(`.sourceCpp_4_DLLInfo`)\n",
      "\n",
      "Building shared library\n",
      "--------------------------------------------------------\n",
      "\n",
      "DIR: C:/Users/bbessell/AppData/Local/Temp/RtmpsvZUNJ/sourceCpp-x86_64-w64-mingw32-1.0.1/sourcecpp_2ad45ac6723a\n",
      "\n",
      "C:/Users/bbessell/Miniconda3/envs/r_leiden/lib/R/bin/x64/R CMD SHLIB -o \"sourceCpp_14.dll\" --preclean \"\" \"GraphUtils.cpp\"  \n"
     ]
    },
    {
     "ename": "ERROR",
     "evalue": "Error in sourceCpp(\"rcpp/GraphUtils.cpp\", verbose = TRUE, rebuild = TRUE): Error 1 occurred building shared library.\n",
     "output_type": "error",
     "traceback": [
      "Error in sourceCpp(\"rcpp/GraphUtils.cpp\", verbose = TRUE, rebuild = TRUE): Error 1 occurred building shared library.\nTraceback:\n",
      "1. sourceCpp(\"rcpp/GraphUtils.cpp\", verbose = TRUE, rebuild = TRUE)",
      "2. stop(\"Error \", result, \" occurred building shared library.\")"
     ]
    }
   ],
   "source": [
    "sourceCpp(\"rcpp/GraphUtils.cpp\", verbose = TRUE, rebuild = TRUE)"
   ]
  },
  {
   "cell_type": "code",
   "execution_count": 11,
   "metadata": {
    "vscode": {
     "languageId": "r"
    }
   },
   "outputs": [
    {
     "name": "stdout",
     "output_type": "stream",
     "text": [
      "g++  -I\"C:/Users/bbessell/MINICO~1/envs/r_leiden/lib/R/include\" -DNDEBUG   -I\"C:/Users/bbessell/Miniconda3/envs/r_leiden/lib/R/library/Rcpp/include\" -I\"c:/Users/bbessell/Projects/GitHub/AluNet/rcpp\"   -I\"C:/Users/bbessell/MINICO~1/envs/r_leiden/lib/R/../../Library/mingw-w64/include\"     -O2 -Wall  -march=x86-64 -mtune=generic -c GraphUtils.cpp -o GraphUtils.o\n"
     ]
    },
    {
     "ename": "ERROR",
     "evalue": "Error in sourceCpp(\"rcpp/GraphUtils.cpp\"): Error 1 occurred building shared library.\n",
     "output_type": "error",
     "traceback": [
      "Error in sourceCpp(\"rcpp/GraphUtils.cpp\"): Error 1 occurred building shared library.\nTraceback:\n",
      "1. sourceCpp(\"rcpp/GraphUtils.cpp\")",
      "2. stop(\"Error \", status, \" occurred building shared library.\")"
     ]
    }
   ],
   "source": [
    "library(Rcpp)\n",
    "\n",
    "sourceCpp(\"rcpp/GraphUtils.cpp\")\n"
   ]
  },
  {
   "cell_type": "code",
   "execution_count": null,
   "metadata": {
    "vscode": {
     "languageId": "r"
    }
   },
   "outputs": [],
   "source": []
  }
 ],
 "metadata": {
  "kernelspec": {
   "display_name": "R",
   "language": "R",
   "name": "ir"
  },
  "language_info": {
   "codemirror_mode": "r",
   "file_extension": ".r",
   "mimetype": "text/x-r-source",
   "name": "R",
   "pygments_lexer": "r",
   "version": "3.6.1"
  }
 },
 "nbformat": 4,
 "nbformat_minor": 2
}
